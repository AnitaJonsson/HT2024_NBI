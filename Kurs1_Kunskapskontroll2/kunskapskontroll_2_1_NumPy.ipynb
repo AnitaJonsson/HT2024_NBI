{
 "cells": [
  {
   "cell_type": "markdown",
   "id": "dacf74e6",
   "metadata": {},
   "source": [
    "# NumPy"
   ]
  },
  {
   "cell_type": "markdown",
   "id": "01b2bf34",
   "metadata": {},
   "source": [
    "Read the links: https://numpy.org/doc/stable/user/quickstart.html  and https://numpy.org/doc/stable/user/basics.broadcasting.html  before solving the exercises. "
   ]
  },
  {
   "cell_type": "code",
   "execution_count": 3,
   "id": "1f79e4a6",
   "metadata": {},
   "outputs": [],
   "source": [
    "import numpy as np"
   ]
  },
  {
   "cell_type": "markdown",
   "id": "7dae6889",
   "metadata": {},
   "source": [
    "### Print out the dimension (number of axes), shape, size and the datatype of the matrix A."
   ]
  },
  {
   "cell_type": "code",
   "execution_count": 5,
   "id": "7b3678cd",
   "metadata": {},
   "outputs": [],
   "source": [
    "A = np.arange(1, 16).reshape(3,5)"
   ]
  },
  {
   "cell_type": "code",
   "execution_count": 6,
   "id": "31d39235",
   "metadata": {},
   "outputs": [
    {
     "data": {
      "text/plain": [
       "(3, 5)"
      ]
     },
     "execution_count": 6,
     "metadata": {},
     "output_type": "execute_result"
    }
   ],
   "source": [
    "A.shape"
   ]
  },
  {
   "cell_type": "markdown",
   "id": "e56d2a96",
   "metadata": {},
   "source": [
    "### Do the following computations on the matrices B and C: \n",
    "* Elementwise subtraction. \n",
    "* Elementwise multiplication. \n",
    "* Matrix multiplication (by default you should use the @ operator)."
   ]
  },
  {
   "cell_type": "code",
   "execution_count": 8,
   "id": "a7053fbb",
   "metadata": {},
   "outputs": [
    {
     "name": "stdout",
     "output_type": "stream",
     "text": [
      "[[1 2 3]\n",
      " [4 5 6]\n",
      " [7 8 9]]\n",
      "\n",
      "[[2. 2. 2.]\n",
      " [2. 2. 2.]\n",
      " [2. 2. 2.]]\n"
     ]
    }
   ],
   "source": [
    "B = np.arange(1, 10).reshape(3, 3)\n",
    "C = np.ones((3, 3))*2\n",
    "\n",
    "print(B)\n",
    "print()\n",
    "print(C)"
   ]
  },
  {
   "cell_type": "code",
   "execution_count": 9,
   "id": "e15ae0ad-905e-4878-8ccd-0e337f124590",
   "metadata": {},
   "outputs": [
    {
     "name": "stdout",
     "output_type": "stream",
     "text": [
      "[[12. 12. 12.]\n",
      " [30. 30. 30.]\n",
      " [48. 48. 48.]]\n"
     ]
    }
   ],
   "source": [
    "D =B @ C\n",
    "print(D)"
   ]
  },
  {
   "cell_type": "code",
   "execution_count": 10,
   "id": "5c379c8b-1830-433f-8932-c884e8eed798",
   "metadata": {},
   "outputs": [
    {
     "name": "stdout",
     "output_type": "stream",
     "text": [
      "[[-1.  0.  1.]\n",
      " [ 2.  3.  4.]\n",
      " [ 5.  6.  7.]]\n"
     ]
    }
   ],
   "source": [
    "D = B - C\n",
    "print(D)"
   ]
  },
  {
   "cell_type": "code",
   "execution_count": 11,
   "id": "3cd794ae",
   "metadata": {},
   "outputs": [
    {
     "name": "stdout",
     "output_type": "stream",
     "text": [
      "[[ 3.  4.  5.]\n",
      " [ 6.  7.  8.]\n",
      " [ 9. 10. 11.]]\n"
     ]
    }
   ],
   "source": [
    "D = B + C\n",
    "print(D)"
   ]
  },
  {
   "cell_type": "markdown",
   "id": "96030d53",
   "metadata": {},
   "source": [
    "### Do the following calculations on the matrix:\n",
    "* Exponentiate each number elementwise (use the np.exp function).\n",
    "\n",
    "* Calculate the minimum value in the whole matrix. \n",
    "* Calculcate the minimum value in each row. \n",
    "* Calculcate the minimum value in each column. \n",
    "\n",
    "\n",
    "* Find the index value for the minimum value in the whole matrix (hint: use np.argmin).\n",
    "* Find the index value for the minimum value in each row (hint: use np.argmin).\n",
    "\n",
    "\n",
    "* Calculate the sum for all elements.\n",
    "* Calculate the mean for each column. \n",
    "* Calculate the median for each column. "
   ]
  },
  {
   "cell_type": "code",
   "execution_count": 13,
   "id": "f8a9166b",
   "metadata": {},
   "outputs": [
    {
     "name": "stdout",
     "output_type": "stream",
     "text": [
      "[[1 2 3]\n",
      " [4 5 6]\n",
      " [7 8 9]]\n"
     ]
    }
   ],
   "source": [
    "B = np.arange(1, 10).reshape(3, 3)\n",
    "print(B)"
   ]
  },
  {
   "cell_type": "code",
   "execution_count": 14,
   "id": "f03f24f7",
   "metadata": {},
   "outputs": [
    {
     "name": "stdout",
     "output_type": "stream",
     "text": [
      "[[2.71828183e+00 7.38905610e+00 2.00855369e+01]\n",
      " [5.45981500e+01 1.48413159e+02 4.03428793e+02]\n",
      " [1.09663316e+03 2.98095799e+03 8.10308393e+03]]\n"
     ]
    }
   ],
   "source": [
    "C = np.exp(B)\n",
    "print(C)"
   ]
  },
  {
   "cell_type": "code",
   "execution_count": 15,
   "id": "9bf88b13-9bd5-46c7-aa77-e0fc57d1b322",
   "metadata": {},
   "outputs": [
    {
     "name": "stdout",
     "output_type": "stream",
     "text": [
      "1\n",
      "[1 2 3]\n",
      "[1 4 7]\n"
     ]
    }
   ],
   "source": [
    "print(np.min(B))\n",
    "print(np.min(B, axis=0))\n",
    "print(np.min(B, axis=1))"
   ]
  },
  {
   "cell_type": "code",
   "execution_count": 16,
   "id": "d5ecfa50-01aa-4939-bbaf-d73520fb24db",
   "metadata": {},
   "outputs": [
    {
     "name": "stdout",
     "output_type": "stream",
     "text": [
      "0\n",
      "[0 0 0]\n"
     ]
    }
   ],
   "source": [
    "print(np.argmin(B))\n",
    "print(np.argmin(B, axis=1))"
   ]
  },
  {
   "cell_type": "code",
   "execution_count": 17,
   "id": "b6ed7f2a-3637-40fc-9a1c-511177f33b27",
   "metadata": {},
   "outputs": [
    {
     "name": "stdout",
     "output_type": "stream",
     "text": [
      "45\n",
      "[4. 5. 6.]\n",
      "[4. 5. 6.]\n"
     ]
    }
   ],
   "source": [
    "print(np.sum(B))\n",
    "print(np.mean(B, axis=0))\n",
    "print(np.median(B, axis=0))"
   ]
  },
  {
   "cell_type": "markdown",
   "id": "541eb7ba",
   "metadata": {},
   "source": [
    "### What does it mean when you provide fewer indices than axes when slicing? See example below."
   ]
  },
  {
   "cell_type": "code",
   "execution_count": 19,
   "id": "9c8abf56",
   "metadata": {},
   "outputs": [
    {
     "name": "stdout",
     "output_type": "stream",
     "text": [
      "[[ 1  2  3  4  5]\n",
      " [ 6  7  8  9 10]\n",
      " [11 12 13 14 15]]\n"
     ]
    }
   ],
   "source": [
    "print(A)"
   ]
  },
  {
   "cell_type": "code",
   "execution_count": 20,
   "id": "69415f7b",
   "metadata": {},
   "outputs": [
    {
     "data": {
      "text/plain": [
       "array([ 6,  7,  8,  9, 10])"
      ]
     },
     "execution_count": 20,
     "metadata": {},
     "output_type": "execute_result"
    }
   ],
   "source": [
    "A[1]"
   ]
  },
  {
   "cell_type": "markdown",
   "id": "6c53541b",
   "metadata": {},
   "source": [
    "**Answer:**"
   ]
  },
  {
   "cell_type": "code",
   "execution_count": 22,
   "id": "de01e120",
   "metadata": {},
   "outputs": [],
   "source": [
    "#This means you get only the row specified. In this case the second row since the first row have index 0"
   ]
  },
  {
   "cell_type": "markdown",
   "id": "6652d0c9",
   "metadata": {},
   "source": [
    "### Iterating over multidimensional arrays is done with respect to the first axis, so in the example below we iterate trough the rows. If you would like to iterate through the array *elementwise*, how would you do that?"
   ]
  },
  {
   "cell_type": "code",
   "execution_count": 24,
   "id": "9459864f",
   "metadata": {},
   "outputs": [
    {
     "data": {
      "text/plain": [
       "array([[ 1,  2,  3,  4,  5],\n",
       "       [ 6,  7,  8,  9, 10],\n",
       "       [11, 12, 13, 14, 15]])"
      ]
     },
     "execution_count": 24,
     "metadata": {},
     "output_type": "execute_result"
    }
   ],
   "source": [
    "A"
   ]
  },
  {
   "cell_type": "code",
   "execution_count": 25,
   "id": "a671bb5a",
   "metadata": {},
   "outputs": [
    {
     "name": "stdout",
     "output_type": "stream",
     "text": [
      "[1 2 3 4 5]\n",
      "[ 6  7  8  9 10]\n",
      "[11 12 13 14 15]\n"
     ]
    }
   ],
   "source": [
    "for i in A:\n",
    "    print(i)"
   ]
  },
  {
   "cell_type": "code",
   "execution_count": 26,
   "id": "f4e443a0",
   "metadata": {},
   "outputs": [
    {
     "name": "stdout",
     "output_type": "stream",
     "text": [
      "1\n",
      "2\n",
      "3\n",
      "4\n",
      "5\n",
      "6\n",
      "7\n",
      "8\n",
      "9\n",
      "10\n",
      "11\n",
      "12\n",
      "13\n",
      "14\n",
      "15\n"
     ]
    }
   ],
   "source": [
    "for x in np.nditer(A):\n",
    "    print(x)"
   ]
  },
  {
   "cell_type": "markdown",
   "id": "608a2583",
   "metadata": {},
   "source": [
    "### Explain what the code below does. More specifically, b has three axes - what does this mean? "
   ]
  },
  {
   "cell_type": "code",
   "execution_count": 28,
   "id": "f8f9b26f",
   "metadata": {},
   "outputs": [
    {
     "name": "stdout",
     "output_type": "stream",
     "text": [
      "[ 0  1  2  3  4  5  6  7  8  9 10 11 12 13 14 15 16 17 18 19 20 21 22 23\n",
      " 24 25 26 27 28 29]\n",
      "\n",
      "[[[ 0  1  2  3  4]\n",
      "  [ 5  6  7  8  9]\n",
      "  [10 11 12 13 14]]\n",
      "\n",
      " [[15 16 17 18 19]\n",
      "  [20 21 22 23 24]\n",
      "  [25 26 27 28 29]]]\n"
     ]
    }
   ],
   "source": [
    "a = np.arange(30)\n",
    "b = a.reshape((2, 3, -1))\n",
    "print(a)\n",
    "print()\n",
    "\n",
    "print(b)"
   ]
  },
  {
   "cell_type": "code",
   "execution_count": 29,
   "id": "863a45df",
   "metadata": {},
   "outputs": [],
   "source": [
    "#The array is split into 2 blocks with 3 rows. The -1 lets numpy decide the number of columns"
   ]
  },
  {
   "cell_type": "markdown",
   "id": "421c9607-819a-401d-949a-97424436fe29",
   "metadata": {},
   "source": [
    "# For the exercises below, read the document *\"matematik_yh_antonio_vektorer_matriser_utdrag\"*\n",
    "# Solutions to the exercises and recorded videos can be found here: https://github.com/AntonioPrgomet/matematik_foer_yh\n",
    "\n",
    "# If you find the exercises below very hard, do not worry. Try your best, that will be enough. "
   ]
  },
  {
   "cell_type": "markdown",
   "id": "ab5933d5",
   "metadata": {},
   "source": [
    "### Broadcasting\n",
    "**Read the following link about broadcasting: https://numpy.org/doc/stable/user/basics.broadcasting.html#basics-broadcasting**"
   ]
  },
  {
   "cell_type": "markdown",
   "id": "039805ba",
   "metadata": {},
   "source": [
    "# Remark on Broadcasting when doing Linear Algebra calculations in Python. "
   ]
  },
  {
   "cell_type": "markdown",
   "id": "c4bcc147",
   "metadata": {},
   "source": [
    "### From the mathematical rules of matrix addition, the operation below (m1 + m2) does not make sense. The reason is that matrix addition requires two matrices of the same size. In Python however, it works due to broadcasting rules in NumPy. So you must be careful when doing Linear Algebra calculations in Python since they do not follow the \"mathematical rules\". This can however easily be handled by doing some simple programming, for example validating that two matrices have the same shape is easy if you for instance want to add two matrices. "
   ]
  },
  {
   "cell_type": "code",
   "execution_count": 34,
   "id": "1fd46778",
   "metadata": {},
   "outputs": [
    {
     "name": "stdout",
     "output_type": "stream",
     "text": [
      "[[2 3]\n",
      " [4 5]]\n"
     ]
    }
   ],
   "source": [
    "m1 = np.array([[1, 2], [3, 4]])\n",
    "m2 = np.array([1, 1])\n",
    "print(m1 + m2)"
   ]
  },
  {
   "cell_type": "markdown",
   "id": "047d6576",
   "metadata": {},
   "source": [
    "### The example below would also not be allowed if following the \"mathematical rules\" in Linear Algebra. But it works due to broadcasting in NumPy. "
   ]
  },
  {
   "cell_type": "code",
   "execution_count": 36,
   "id": "5e6ef2e4",
   "metadata": {},
   "outputs": [
    {
     "name": "stdout",
     "output_type": "stream",
     "text": [
      "[2 3 4]\n"
     ]
    }
   ],
   "source": [
    "v1 = np.array([1, 2, 3])\n",
    "print(v1 + 1)"
   ]
  },
  {
   "cell_type": "code",
   "execution_count": 37,
   "id": "e2cbae26",
   "metadata": {},
   "outputs": [
    {
     "name": "stdout",
     "output_type": "stream",
     "text": [
      "[[1 2]\n",
      " [3 4]]\n",
      "[2 2]\n"
     ]
    }
   ],
   "source": [
    "A = np.arange(1, 5).reshape(2,2)\n",
    "print(A)\n",
    "\n",
    "b = np.array([2, 2])\n",
    "print(b)"
   ]
  },
  {
   "cell_type": "markdown",
   "id": "722fd5cd",
   "metadata": {},
   "source": [
    "# Vector- and matrix algebra Exercises"
   ]
  },
  {
   "cell_type": "markdown",
   "id": "b63a3081-d976-4d9f-bfd0-a63917e79f7d",
   "metadata": {},
   "source": [
    "**Now you are going to create a function that can be reused every time you add or multiply matrices. The function is created so that we do the addition and multiplication according to the rules of vector- and matrix algebra.**\n",
    "\n",
    "**Create a function \"add_mult_matrices\" that takes two matrices as input arguments (validate that the input are of the type numpy.ndarray by using the isinstance function), a third argument that is either 'add' or 'multiply' that specifies if you want to add or multiply the matrices (validate that the third argument is either 'add' or 'multiply'). When doing matrix addition, validate that the matrices have the same size. When doing matrix multiplication, validate that the sizes conform (i.e. number of columns in the first matrix is equal to the number of rows in the second matrix).**"
   ]
  },
  {
   "cell_type": "code",
   "execution_count": 40,
   "id": "3506f977-ac0a-473f-85bc-eec9f35dc498",
   "metadata": {},
   "outputs": [
    {
     "data": {
      "text/plain": [
       "array([[ 7, 10],\n",
       "       [15, 22]])"
      ]
     },
     "execution_count": 40,
     "metadata": {},
     "output_type": "execute_result"
    }
   ],
   "source": [
    "def add_mult_matrices(v1,v2, action):\n",
    "    if isinstance(v1, np.ndarray):\n",
    "        if isinstance(v2, np.ndarray):\n",
    "            if v1.shape[0] == v2.shape[1]:\n",
    "                if action == \"add\":\n",
    "                    return v1 + v2\n",
    "                elif action == \"multiply\":\n",
    "                    return v1 @ v2\n",
    "                else:\n",
    "                    return \"You have to use add or multiply as action\"     \n",
    "            else:\n",
    "                return \"The sizes of the input isn't conform\"\n",
    "        else:\n",
    "            return \"Second input isn't a numpy array\"\n",
    "    else:\n",
    "        return \"First input isn't a numpy array\"\n",
    "\n",
    "v1 = np.array([[1, 2], [3, 4]])\n",
    "v2 = np.array([[1, 2], [3, 4]])\n",
    "#v2 = np.array([[1], [1]])\n",
    "#v1 = \"Test\"\n",
    "\n",
    "add_mult_matrices(v1, v2,'multiply')\n"
   ]
  },
  {
   "cell_type": "markdown",
   "id": "8dad82d0-2359-4dff-8f5b-a57d3e34103c",
   "metadata": {},
   "source": [
    "### Solve all the exercises in chapter 10.1 in the book \"Matematik för yrkeshögskolan\". "
   ]
  },
  {
   "cell_type": "code",
   "execution_count": 42,
   "id": "89df88af-3668-4d98-a0a4-e6d92eea0f89",
   "metadata": {},
   "outputs": [
    {
     "name": "stdout",
     "output_type": "stream",
     "text": [
      "--  Uppgift 10.1.1  --\n",
      " a: Vektorn x har dimensionen 1x2 (en rad och två kolumner)\n",
      " b: 5x [[15 20]]\n",
      " c: 3x [[ 9 12]]\n",
      " d: 5x + 3x [[24 32]]\n",
      " e: 8x [[24 32]]\n",
      " f: 4x - x [[ 9 12]]\n",
      " g: x trasponerad [[3]\n",
      " [4]] har dimensionen 2 x 1 två rader och en kolumn\n",
      " h: vet ej\n",
      " i: norm av x = 5.0\n"
     ]
    }
   ],
   "source": [
    "print(\"--  Uppgift 10.1.1  --\")\n",
    "\n",
    "x = np.array([[3,4]])\n",
    "print(f\" a: Vektorn x har dimensionen 1x2 (en rad och två kolumner)\")\n",
    "\n",
    "b = x * 5\n",
    "print(f\" b: 5x {b}\")\n",
    "\n",
    "c = x * 3\n",
    "print(f\" c: 3x {c}\")\n",
    "\n",
    "d = (x * 5) + (x * 3)\n",
    "print(f\" d: 5x + 3x {d}\")\n",
    "\n",
    "e = x * 8\n",
    "print(f\" e: 8x {e}\")\n",
    "\n",
    "f = (x * 4) - x\n",
    "print(f\" f: 4x - x {f}\")\n",
    "\n",
    "g = np.transpose(x)\n",
    "print(f\" g: x trasponerad {g} har dimensionen 2 x 1 två rader och en kolumn\")\n",
    "\n",
    "print(f\" h: vet ej\")\n",
    "\n",
    "i = np.linalg.norm(x)\n",
    "print(f\" i: norm av x = {i}\")"
   ]
  },
  {
   "cell_type": "code",
   "execution_count": 43,
   "id": "f15677d3-b5a2-4db3-bf90-f06ccade0056",
   "metadata": {},
   "outputs": [
    {
     "name": "stdout",
     "output_type": "stream",
     "text": [
      "--  Uppgift 10.1.2  --\n",
      " a: [ 3  7  0 11] Vektorn x har dimensionen 4x1 (fyra rad och en kolumn)\n",
      " b: 2v [ 6 14  0 22]\n",
      " c: 5v + 2v [21 49  0 77]\n",
      " d: 4v - 2v [ 6 14  0 22]\n",
      " g: v trasponerad [ 3  7  0 11] har dimensionen 1 x 4 en rader och fyra kolumner\n",
      " f: norm av v = 13.379088160259652\n"
     ]
    }
   ],
   "source": [
    "print(\"--  Uppgift 10.1.2  --\")\n",
    "\n",
    "v = np.array([3, 7, 0, 11])\n",
    "print(f\" a: {v} Vektorn x har dimensionen 4x1 (fyra rad och en kolumn)\")\n",
    "\n",
    "b = v * 2\n",
    "print(f\" b: 2v {b}\")\n",
    "\n",
    "c = (v * 5) + (v * 2)\n",
    "print(f\" c: 5v + 2v {c}\")\n",
    "\n",
    "d = (v * 4) - (v * 2)\n",
    "print(f\" d: 4v - 2v {d}\")\n",
    "\n",
    "e = np.transpose(v)\n",
    "print(f\" g: v trasponerad {e} har dimensionen 1 x 4 en rader och fyra kolumner\")\n",
    "\n",
    "f = np.linalg.norm(v)\n",
    "print(f\" f: norm av v = {f}\")"
   ]
  },
  {
   "cell_type": "code",
   "execution_count": 44,
   "id": "0b0ebfb5-6614-4de1-84e4-4aeca03bf17c",
   "metadata": {},
   "outputs": [
    {
     "name": "stdout",
     "output_type": "stream",
     "text": [
      "--  Uppgift 10.1.3  --\n",
      " a: norm av v1 = 7.14142842854285\n",
      " b: norm av v1 - v2 = 4.47213595499958\n"
     ]
    }
   ],
   "source": [
    "print(\"--  Uppgift 10.1.3  --\")\n",
    "\n",
    "v1 = np.array([[4,3,1,5]])\n",
    "v2 = np.array([[2,3,1,1]])\n",
    "\n",
    "a = np.linalg.norm(v1)\n",
    "print(f\" a: norm av v1 = {a}\")\n",
    "\n",
    "b = np.linalg.norm(v1 - v2)\n",
    "    #v3 = v1 - v2\n",
    "    #print(v3)\n",
    "    #v4 = np.linalg.norm(v3)\n",
    "    #print(v4) \n",
    "print(f\" b: norm av v1 - v2 = {b}\")"
   ]
  },
  {
   "cell_type": "markdown",
   "id": "75c98984-1f88-4df1-b850-d2466de444a5",
   "metadata": {},
   "source": [
    "### Solve all the exercises, except 10.2.4, in chapter 10.2 in the book \"Matematik för yrkeshögskolan\". "
   ]
  },
  {
   "cell_type": "code",
   "execution_count": 46,
   "id": "65371610-16e1-48b2-b7fb-65e49002608a",
   "metadata": {},
   "outputs": [
    {
     "name": "stdout",
     "output_type": "stream",
     "text": [
      "--  Uppgift 10.2.1  --\n",
      " a: \n",
      " [[ 4  2 -2]\n",
      " [ 2 -2  2]]\n",
      " b: \n",
      " [[ 0 -4  3]\n",
      " [ 0 -2 -4]]\n",
      " c: \n",
      " [[ 1  2]\n",
      " [ 4 -1]]\n",
      " d: \n",
      " [[3 2]\n",
      " [2 3]]\n",
      " e: \n",
      " [[ 9 12]\n",
      " [12  9]]\n",
      " f: \n",
      " [[ 8 12]\n",
      " [12  8]]\n",
      " g: \n",
      " The matrices dont have the same number of folumns and rows\n",
      " h: \n",
      " The first matric have three columns but the second only have two rows\n",
      " i: \n",
      " [[11 10]\n",
      " [10 11]]\n",
      " j: \n",
      " [[  8 -10  -3]\n",
      " [ 10  -8   0]]\n",
      " k: \n",
      " [[1 2]\n",
      " [2 1]]\n",
      " l: \n",
      " [[5 2]\n",
      " [7 4]]\n"
     ]
    }
   ],
   "source": [
    "print(\"--  Uppgift 10.2.1  --\")\n",
    "\n",
    "A = np.array([[2, 1, -1], [1, -1, 1]])\n",
    "B = np.array([[4, -2, 1], [2, -4, -2]])\n",
    "C = np.array([[1, 2], [2, 1]])\n",
    "D = np.array([[3, 4], [4, 3]])\n",
    "E = np.array([[1, 2]])\n",
    "I = np.array([[1, 0], [0, 1]])\n",
    "\n",
    "a = A * 2\n",
    "print(f\" a: \\n {a}\")\n",
    "b = B - (A * 2)\n",
    "print(f\" b: \\n {b}\")\n",
    "c = (C * 3) - (E * 2)\n",
    "print(f\" c: \\n {c}\")\n",
    "d = (D * 2) - (C * 3)\n",
    "print(f\" d: \\n {d}\")\n",
    "e = np.transpose(D) + (D * 2)\n",
    "print(f\" e: \\n {e}\")\n",
    "f = (np.transpose(C) * 2) + (np.transpose(D) * 2)\n",
    "print(f\" f: \\n {f}\")\n",
    "#g = np.transpose(A) - B\n",
    "print(f\" g: \\n The matrices dont have the same number of folumns and rows\")\n",
    "#h = A @ C\n",
    "print(f\" h: \\n The first matric have three columns but the second only have two rows\")\n",
    "i = C @ D\n",
    "print(f\" i: \\n {i}\")\n",
    "j = C @ B\n",
    "print(f\" j: \\n {j}\")\n",
    "k = C @ I\n",
    "print(f\" k: \\n {k}\")\n",
    "l =  A @ np.transpose(B) \n",
    "print(f\" l: \\n {l}\")"
   ]
  },
  {
   "cell_type": "code",
   "execution_count": 47,
   "id": "bd918a6a-efb3-44c8-b0b6-a190ac91e3b6",
   "metadata": {},
   "outputs": [
    {
     "name": "stdout",
     "output_type": "stream",
     "text": [
      "--  Uppgift 10.2.2  --\n",
      " [[29 26]\n",
      " [26 42]]\n"
     ]
    }
   ],
   "source": [
    "print(\"--  Uppgift 10.2.2  --\")\n",
    "\n",
    "A = np.array([[2, 3, 4], [5, 4, 1]])\n",
    "\n",
    "a = A @ np.transpose(A)\n",
    "print(f\" {a}\")\n"
   ]
  },
  {
   "cell_type": "code",
   "execution_count": 48,
   "id": "37eac0d3-ec24-4353-ab62-498a038d2d17",
   "metadata": {},
   "outputs": [
    {
     "name": "stdout",
     "output_type": "stream",
     "text": [
      "--  Uppgift 10.2.3  --\n",
      "  A * B: \n",
      " [[ 4  7]\n",
      " [ 8 14]]\n",
      "  A * C: \n",
      " [[ 4  7]\n",
      " [ 8 14]]\n"
     ]
    }
   ],
   "source": [
    "print(\"--  Uppgift 10.2.3  --\")\n",
    "\n",
    "A = np.array([[1, 2], [2, 4]])\n",
    "B = np.array([[2, 1], [1, 3]])\n",
    "C = np.array([[4, 3], [0, 2]])\n",
    "\n",
    "ab = A @ B\n",
    "print(f\"  A * B: \\n {ab}\")\n",
    "ac = A @ C\n",
    "print(f\"  A * C: \\n {ac}\")"
   ]
  },
  {
   "cell_type": "markdown",
   "id": "6a4a524f",
   "metadata": {},
   "source": [
    "### Copies and Views\n",
    "Read the following link: https://numpy.org/doc/stable/user/basics.copies.html"
   ]
  },
  {
   "cell_type": "markdown",
   "id": "6cbbeaf7",
   "metadata": {},
   "source": [
    "**Basic indexing creates a view, How can you check if v1 and v2 is a view or copy? If you change the last element in v2 to 123, will the last element in v1 be changed? Why?**"
   ]
  },
  {
   "cell_type": "code",
   "execution_count": 51,
   "id": "5b9ef4df",
   "metadata": {},
   "outputs": [
    {
     "name": "stdout",
     "output_type": "stream",
     "text": [
      "[0 1 2 3]\n",
      "[2 3]\n"
     ]
    }
   ],
   "source": [
    "v1 = np.arange(4)\n",
    "v2 = v1[-2:]\n",
    "print(v1)\n",
    "print(v2)\n"
   ]
  },
  {
   "cell_type": "code",
   "execution_count": 52,
   "id": "d2440489",
   "metadata": {},
   "outputs": [
    {
     "name": "stdout",
     "output_type": "stream",
     "text": [
      "None\n",
      "[0 1 2 3]\n"
     ]
    }
   ],
   "source": [
    "# The base attribute of a view returns the original array while it returns None for a copy.\n",
    "print(v1.base)\n",
    "print(v2.base)"
   ]
  },
  {
   "cell_type": "code",
   "execution_count": 53,
   "id": "c8752807",
   "metadata": {},
   "outputs": [
    {
     "name": "stdout",
     "output_type": "stream",
     "text": [
      "[  0   1   2 123]\n",
      "[  2 123]\n"
     ]
    }
   ],
   "source": [
    "# The last element in v1 will be changed aswell since v2 is a view, meaning they share the same data buffer.\n",
    "v2[-1] = 123\n",
    "print(v1)\n",
    "print(v2)"
   ]
  },
  {
   "cell_type": "code",
   "execution_count": null,
   "id": "3dd68221",
   "metadata": {},
   "outputs": [],
   "source": []
  }
 ],
 "metadata": {
  "kernelspec": {
   "display_name": "Python [conda env:HandelsA2024]",
   "language": "python",
   "name": "conda-env-HandelsA2024-py"
  },
  "language_info": {
   "codemirror_mode": {
    "name": "ipython",
    "version": 3
   },
   "file_extension": ".py",
   "mimetype": "text/x-python",
   "name": "python",
   "nbconvert_exporter": "python",
   "pygments_lexer": "ipython3",
   "version": "3.12.7"
  }
 },
 "nbformat": 4,
 "nbformat_minor": 5
}
