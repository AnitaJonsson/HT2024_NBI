{
 "cells": [
  {
   "cell_type": "markdown",
   "id": "d81ffe1f",
   "metadata": {},
   "source": [
    "PAIHT\"4D_ARIN  - Kunskapskontroll2, del 2/2 - Anita Jonsson"
   ]
  },
  {
   "cell_type": "markdown",
   "id": "ed6c7796",
   "metadata": {},
   "source": [
    "# Beskrivning av projekt och tillvägagångssätt\n",
    "\n"
   ]
  },
  {
   "cell_type": "markdown",
   "id": "2c196c7b",
   "metadata": {},
   "source": [
    "## Projektsyfte"
   ]
  },
  {
   "cell_type": "markdown",
   "id": "3f66c924",
   "metadata": {},
   "source": [
    "I mitt yrke har jag jobbat en del med budgeteringssytem och budget- och prognosprocesser. De flesta företag utför budget och prognoser i ganska omfattande grad. Ofta är det ett copy-paste tillvägagångssätt där man från en månad till annan ändrar på ett fåtal värden. I dessa scenarier utgår man ofta från historisk data. Jag har fått tillgång till ett dataset som ska motsvara antal sålda produkter. Vi har fått veta att produkterna är väldigt säsongsberoende vilket försvårar prognosarbetet. Frågan är, kan man använda AI för att göra dessa prognoser?"
   ]
  },
  {
   "cell_type": "markdown",
   "id": "3d2cee04",
   "metadata": {},
   "source": [
    "## Tillvägagångssätt"
   ]
  },
  {
   "cell_type": "markdown",
   "id": "36795872",
   "metadata": {},
   "source": [
    "Jag börjar med att fråga ChatGPT som snabbt leder mig in på tidsserie-analyser med ARIM och SARIMA. Se frågan och svaret i Word-dokumentet \"ChatGPT_BudgetForecast with AI\"\n",
    "\n",
    "Via sökningar på dessa begrepp hittade jag till Egor Howells video-serie och notebooks som har varit ovärderlig. Han ger bla tips på hur man måste tänka när man delar tidsserier i train- och testset och hur man utvärderar modeller.\n",
    "\n",
    "https://www.youtube.com/watch?v=i7HARZlJv7Y&list=PLKmQjl_R9bYd32uHImJxQSFZU5LPuXfQe\n",
    "https://github.com/egorhowell/Youtube/tree/main/Time-Series-Crash-Course\n",
    "\n",
    "Jag beslutar mig för att försöka testa ett par olika modeller mot varandra men också försöka gruppera varor som uppvisar samma säsongsmönster och försöka hitta ett sätt att ange vilka produkter som är lämpliga att göra en AI-prognos på. Kan vi anta att alla produkter uppvisar samma säsongsvariation och trend? Mitt mål är att skapa ett dokument som anger vilka produkter som uppvisar samma mönster och vilka som är lämpliga eller inte lämpliga att använda en AI-modell på för att skapa en prognos.\n",
    "\n",
    "Jag testar först ARIMA och SARIMA men när jag sedan ska pröva Facebooks Prophet blir jag tvungen att skapa en helt ny virtuell miljö eftersom den måste köra i Python 3.7, vilket gör att några av de script jag kört tidigare inte fungerar utan måste anpassas. \n",
    "När jag är nöjd med dessa initiala script testar jag att bygga ihop och loopa över alla produkter. Då får jag konstatera att i tidsserie-analyser är det extra viktigt att ha kompletta serier. Jag får plocka bort tre produktgrupper som inte har tillräckligt långa tidsserier och jag skapar (i ett verktyg utanför Python) upp perioder som saknas i datasetet för vissa produkter. De två år (2022-2023) som borde utgöra tränings-set uppvisar väldigt olika säsongsvariation. För att få någon pålitlig prognos läser jag in året 2023 som 2024 och flyttar värden för 2024 till 2025.\n"
   ]
  },
  {
   "cell_type": "markdown",
   "id": "15b20847",
   "metadata": {},
   "source": [
    "### T1: TimeSeries variables"
   ]
  },
  {
   "cell_type": "markdown",
   "id": "dca0ac2c",
   "metadata": {},
   "source": [
    "I T1_TimeSeries_variables.ipynb beräknas följande för alla produkter och exporteras till en Excelfil T1_TimeSeries_variables.xlsx:\n",
    "    BOXCOX, lambda värdet\n",
    "    Adf test (Augmented Dickey-Fuller Test), p-value. \n",
    "    Decomposed_regression, trend"
   ]
  },
  {
   "cell_type": "markdown",
   "id": "6d194559",
   "metadata": {},
   "source": [
    "### T2: Cluster"
   ]
  },
  {
   "cell_type": "markdown",
   "id": "b82d7076",
   "metadata": {},
   "source": [
    "T2_Cluster.ipynb läser värdena från Excelfil T1_TimeSeries_variables.xlsx och skapar cluster av produkterna. Dessa värden sparas ner i T2_clustered_products.xlsx"
   ]
  },
  {
   "cell_type": "markdown",
   "id": "24bce25b",
   "metadata": {},
   "source": [
    "### T3: Forecast and evaluate"
   ]
  },
  {
   "cell_type": "markdown",
   "id": "aa5ea003",
   "metadata": {},
   "source": [
    "För varje produkt görs en prognos i ARIMA, SARIMA och Prophet. MAPE (Mean Absolute Percentage Error) beräknas också.\n",
    "MAPE för var och en av de tre modellerna sparas ner i T3_mape_summary_by_product.xlsx\n"
   ]
  },
  {
   "cell_type": "markdown",
   "id": "8822b01d",
   "metadata": {},
   "source": [
    "### T4: Summary"
   ]
  },
  {
   "cell_type": "markdown",
   "id": "448efb88",
   "metadata": {},
   "source": [
    "I T4_Summary.ipynb sammanställs information från T1,T2 och T3. Från denna tycker jag att man kan se att produkterna har väldigt olika förutsättningar och trender."
   ]
  },
  {
   "cell_type": "markdown",
   "id": "96561ca2",
   "metadata": {},
   "source": [
    "## Fortsatt utveckling"
   ]
  },
  {
   "cell_type": "markdown",
   "id": "6c8b9b64",
   "metadata": {},
   "source": [
    "Datakvalitet och vikten av att datan är komplett blev ytterst tydligt. Jag har fått utesluta några produkter och det hade behövs mer än två års historik. Jag har inte utvärderat variablerna i T1, ifall dessa värden kan ge den indikation som jag sökte, och jag hade gärna testat andra variabler i steg T1 men tiden tillät inte detta.\n",
    "\n",
    "Prognoser beräknades men jag har valt att inte skriva ut dessa eftersom jag i första hand sökte ett sätt att utvärdera om en tidsserie lämpar sig för att skapa prognos med hjälp av AI. Nästa steg hade varit att skapa ett system där man får prognoserna med värderingen hur \"lämplig, välfungerande\" prognosen förväntas vara."
   ]
  },
  {
   "cell_type": "markdown",
   "id": "76dd8cc1",
   "metadata": {},
   "source": [
    "## Reflektionsfrågor"
   ]
  },
  {
   "cell_type": "markdown",
   "id": "d369c2cf",
   "metadata": {},
   "source": [
    "1. Hur har du upplevt arbetet med projektet? \n",
    "    Det har varit kul speciellt eftersom jag hade ett \"riktigt\" dataset och frågeställning som kan bli aktuell i min yrkesutövning\n",
    "2. Har något varit utmanande, hur har du hanterat det? Vilka lärdomar har du tagit? \n",
    "    Felmeedelande i Python har varit jobbiga. Vad de betyder? Vilka man kan ignorera mm?\n",
    "    Lärdom är att Python i sig kanske inte är så svårt. Det är en fördel att det finns så många open source tillägg men det skapar också en hel del problem när de inte riktigt fungerar ihop.\n",
    "3. Vilket betyg anser du att du ska ha?\n",
    "    VG - Jag har skapat en \"produkt\". Min \"produkt\" är en analys som ska ge indikation om en tidsserie är tillräckligt bra för att göra med AI."
   ]
  },
  {
   "cell_type": "code",
   "execution_count": null,
   "id": "d56238b6",
   "metadata": {},
   "outputs": [],
   "source": []
  }
 ],
 "metadata": {
  "kernelspec": {
   "display_name": "Python 3 (ipykernel)",
   "language": "python",
   "name": "python3"
  },
  "language_info": {
   "codemirror_mode": {
    "name": "ipython",
    "version": 3
   },
   "file_extension": ".py",
   "mimetype": "text/x-python",
   "name": "python",
   "nbconvert_exporter": "python",
   "pygments_lexer": "ipython3",
   "version": "3.7.1"
  }
 },
 "nbformat": 4,
 "nbformat_minor": 5
}
