{
 "cells": [
  {
   "cell_type": "markdown",
   "id": "4c6f8828",
   "metadata": {},
   "source": [
    "# Cluster products on TimeSeries variables"
   ]
  },
  {
   "cell_type": "code",
   "execution_count": 1,
   "id": "161d9263-4e74-4dad-8f64-caad22a052f4",
   "metadata": {},
   "outputs": [],
   "source": [
    "#Run in env Python3716 or HandelA2024B\n",
    "\n",
    "import os\n",
    "os.environ[\"OMP_NUM_THREADS\"] = \"1\"\n",
    "\n",
    "import numpy as np\n",
    "import pandas as pd\n",
    "from sklearn.preprocessing import StandardScaler\n",
    "from sklearn.cluster import KMeans\n",
    "import plotly.express as px\n",
    "import matplotlib.pyplot as plt\n"
   ]
  },
  {
   "cell_type": "markdown",
   "id": "85d8c42f",
   "metadata": {},
   "source": [
    "## Read data"
   ]
  },
  {
   "cell_type": "code",
   "execution_count": 2,
   "id": "1a763773-59a3-4e5f-ae67-6bb68a1db951",
   "metadata": {},
   "outputs": [
    {
     "name": "stdout",
     "output_type": "stream",
     "text": [
      "           BoxCox     ADF p  Decomposed_regression\n",
      "Product                                           \n",
      "1051     0.571231  0.308784              -6.564040\n",
      "1052     0.732822  0.110572           -1477.477808\n",
      "1040     0.076982  0.062842           -5712.012156\n",
      "1010     0.093423  0.076948          -13885.338750\n",
      "1020    -0.012723  0.005244          -23594.366141\n",
      "1013    -0.418742  0.373996          -49996.668569\n",
      "1012     0.420235  0.391690          -77092.380616\n"
     ]
    }
   ],
   "source": [
    "# --- STEP 1: Load time series features ---\n",
    "data = pd.read_excel('T1_TimeSeries_variables.xlsx', index_col=0)  \n",
    "data['BoxCox'] = data['BoxCox'].fillna(data['BoxCox'].mean())\n",
    "\n",
    "print(data)"
   ]
  },
  {
   "cell_type": "markdown",
   "id": "75f88c2a",
   "metadata": {},
   "source": [
    "## Find optimal number of clusters"
   ]
  },
  {
   "cell_type": "code",
   "execution_count": 3,
   "id": "475f51bf-1f9f-4d47-8bf4-a6e056be7409",
   "metadata": {},
   "outputs": [
    {
     "data": {
      "image/png": "[encoded data removed]",
      "text/plain": [
       "<Figure size 500x300 with 1 Axes>"
      ]
     },
     "metadata": {},
     "output_type": "display_data"
    }
   ],
   "source": [
    "# Experimentera med olika antal kluster\n",
    "inertias = []\n",
    "k_range = range(1, 8)\n",
    "\n",
    "for k in k_range:\n",
    "    kmeans = KMeans(n_clusters=k, random_state=42)\n",
    "    #kmeans.fit(time_series_data_scaled)\n",
    "    kmeans.fit(data)\n",
    "    inertias.append(kmeans.inertia_)\n",
    "\n",
    "plt.figure(figsize=(5, 3))\n",
    "plt.plot(k_range, inertias, 'bx-')\n",
    "plt.xlabel('k')\n",
    "plt.ylabel('Inertia')\n",
    "plt.title('Elbow Method for Optimal k')\n",
    "plt.show()"
   ]
  },
  {
   "cell_type": "markdown",
   "id": "3ae2554e",
   "metadata": {},
   "source": [
    "## Make clusters"
   ]
  },
  {
   "cell_type": "code",
   "execution_count": 4,
   "id": "ac60ebd8-d259-4906-89ec-8fa9b39860fb",
   "metadata": {},
   "outputs": [],
   "source": [
    "# --- STEP 2: Scale and cluster ---\n",
    "\n",
    "# Standardizing the data\n",
    "scaler = StandardScaler()\n",
    "data_scaled = scaler.fit_transform(data)\n",
    "\n",
    "# Clustering using k-Means\n",
    "kmeans = KMeans(n_clusters=4, random_state=0)\n",
    "labels = kmeans.fit_predict(data_scaled)\n",
    "\n"
   ]
  },
  {
   "cell_type": "markdown",
   "id": "073a8b7f",
   "metadata": {},
   "source": [
    "## Save result to file"
   ]
  },
  {
   "cell_type": "code",
   "execution_count": 5,
   "id": "e6329ec7",
   "metadata": {},
   "outputs": [
    {
     "name": "stdout",
     "output_type": "stream",
     "text": [
      "✅ Clustered data saved.\n"
     ]
    }
   ],
   "source": [
    "# --- STEP 3: Add cluster label back to Product_SubGroup ---\n",
    "cluster_df = data.copy()\n",
    "cluster_df['Cluster'] = labels\n",
    "cluster_df = cluster_df.reset_index()  # Reset index to have 'Product_SubGroup' as column\n",
    "\n",
    "# Save cluster file\n",
    "cluster_df[['Product', 'Cluster']].to_excel('T2_clustered_products.xlsx', index=False)\n",
    "print(\"✅ Clustered data saved.\")"
   ]
  },
  {
   "cell_type": "code",
   "execution_count": null,
   "id": "2fa030ba",
   "metadata": {},
   "outputs": [],
   "source": []
  }
 ],
 "metadata": {
  "kernelspec": {
   "display_name": "Python 3 (ipykernel)",
   "language": "python",
   "name": "python3"
  },
  "language_info": {
   "codemirror_mode": {
    "name": "ipython",
    "version": 3
   },
   "file_extension": ".py",
   "mimetype": "text/x-python",
   "name": "python",
   "nbconvert_exporter": "python",
   "pygments_lexer": "ipython3",
   "version": "3.7.1"
  }
 },
 "nbformat": 4,
 "nbformat_minor": 5
}
