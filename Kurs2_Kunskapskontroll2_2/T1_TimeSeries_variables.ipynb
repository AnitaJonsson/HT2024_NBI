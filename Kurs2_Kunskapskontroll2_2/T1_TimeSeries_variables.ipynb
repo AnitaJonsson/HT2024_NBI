{
 "cells": [
  {
   "cell_type": "markdown",
   "id": "44de62a1",
   "metadata": {},
   "source": [
    "# TimeSeries variables\n"
   ]
  },
  {
   "cell_type": "code",
   "execution_count": 1,
   "id": "d9d06138",
   "metadata": {},
   "outputs": [],
   "source": [
    "#Run in env Python3716 or HandelA2024B\n",
    "\n",
    "# Import packages\n",
    "import plotly.express as px\n",
    "import pandas as pd\n",
    "from statsmodels.tsa.stattools import adfuller\n",
    "import numpy as np\n",
    "from scipy.stats import boxcox\n",
    "from statsmodels.tsa.seasonal import seasonal_decompose\n",
    "from sklearn.linear_model import LinearRegression"
   ]
  },
  {
   "cell_type": "markdown",
   "id": "e4edd4d9",
   "metadata": {},
   "source": [
    "## Read data"
   ]
  },
  {
   "cell_type": "code",
   "execution_count": 2,
   "id": "f0634717",
   "metadata": {},
   "outputs": [],
   "source": [
    "# Read in the data\n",
    "data_all_years = pd.read_csv('Product_SubGroup_Date_2022-2025.csv')\n",
    "data_all_years['Date'] = pd.to_datetime(data_all_years['Date'])\n",
    "\n",
    "\n",
    "# filter OUT years \n",
    "years_to_exclude = [2025] \n",
    "\n",
    "# Filter the DataFrame\n",
    "data_all = data_all_years.loc[~data_all_years['Date'].dt.year.isin(years_to_exclude)]\n"
   ]
  },
  {
   "cell_type": "markdown",
   "id": "4fffac49",
   "metadata": {},
   "source": [
    "## Functions"
   ]
  },
  {
   "cell_type": "code",
   "execution_count": 3,
   "id": "a1010bd7-689b-4ed4-b3ad-f78e9fdc57f3",
   "metadata": {},
   "outputs": [],
   "source": [
    "# Function box_cox\n",
    "def calculate_box_cox(group):\n",
    "    if (group['Quantity'] <= 0).any():\n",
    "        return None\n",
    "    _, lam = boxcox(group['Quantity'])\n",
    "    return lam\n"
   ]
  },
  {
   "cell_type": "code",
   "execution_count": 4,
   "id": "97c56df4-d3ea-4dcc-87ae-7bacf7ba4d21",
   "metadata": {},
   "outputs": [],
   "source": [
    "def adf_test(series):\n",
    "    \"\"\"Using an ADF test to determine if a series is stationary\"\"\"\n",
    "    test_results = adfuller(series)\n",
    "    \n",
    "    p_value = test_results[1]\n",
    "\n",
    "    if pd.notnull(p_value):\n",
    "        return test_results[1]\n",
    "    else:\n",
    "        return 0"
   ]
  },
  {
   "cell_type": "code",
   "execution_count": 5,
   "id": "8a33b894-bff1-4843-b55f-1220c2fc4d9c",
   "metadata": {},
   "outputs": [],
   "source": [
    "def Decomposed_regression(series):\n",
    "    # Decompose (must set period if not inferring freq)\n",
    "    decomposition = seasonal_decompose(series, model='additive', period=12)\n",
    "    \n",
    "    # Extract trend\n",
    "    trend = decomposition.trend.dropna()  # Drop NaNs at edges\n",
    "    \n",
    "    # Prepare data for regression\n",
    "    X = np.arange(len(trend)).reshape(-1, 1)  # Independent variable: time step\n",
    "    y = trend.values.reshape(-1, 1)          # Dependent variable: trend values\n",
    "    \n",
    "    # Fit linear regression\n",
    "    model = LinearRegression()\n",
    "    model.fit(X, y)\n",
    "    \n",
    "    # Predict trend line\n",
    "    trend_pred = model.predict(X)\n",
    "    \n",
    "    # Get slope & intercept\n",
    "    slope = model.coef_[0][0]\n",
    "    #intercept = model.intercept_[0]\n",
    "    return slope"
   ]
  },
  {
   "cell_type": "markdown",
   "id": "bfef1818",
   "metadata": {},
   "source": [
    "## Staging"
   ]
  },
  {
   "cell_type": "code",
   "execution_count": 6,
   "id": "dec1a8a5-3b16-40a4-9c5b-d794b8e7afbb",
   "metadata": {
    "scrolled": true
   },
   "outputs": [
    {
     "name": "stdout",
     "output_type": "stream",
     "text": [
      "[1051 1052 1040 1010 1020 1013 1012]\n",
      "\n",
      "   Product BoxCox ADF p Decomposed_regression\n",
      "0     1051   None  None                  None\n",
      "1     1052   None  None                  None\n",
      "2     1040   None  None                  None\n",
      "3     1010   None  None                  None\n",
      "4     1020   None  None                  None\n",
      "5     1013   None  None                  None\n",
      "6     1012   None  None                  None\n"
     ]
    }
   ],
   "source": [
    "# Find unique product values\n",
    "unique_products=data_all['Product_SubGroup'].unique()\n",
    "# Show result\n",
    "print(unique_products)\n",
    "print()\n",
    "\n",
    "# Create result DataFrame\n",
    "result_products = pd.DataFrame({'Product': unique_products})\n",
    "result_products['BoxCox'] = None\n",
    "result_products['ADF p'] = None\n",
    "result_products['Decomposed_regression'] = None\n",
    "print(result_products)"
   ]
  },
  {
   "cell_type": "markdown",
   "id": "18e89b6f",
   "metadata": {},
   "source": [
    "## Run functions over all products"
   ]
  },
  {
   "cell_type": "code",
   "execution_count": 7,
   "id": "83b5e79b-6a00-4314-b416-89e417fd9a76",
   "metadata": {},
   "outputs": [
    {
     "name": "stdout",
     "output_type": "stream",
     "text": [
      "\n",
      "1051\n",
      "\n",
      "1052\n",
      "\n",
      "1040\n",
      "\n",
      "1010\n",
      "\n",
      "1020\n",
      "\n",
      "1013\n",
      "\n",
      "1012\n",
      "   Product    BoxCox     ADF p Decomposed_regression\n",
      "0     1051  0.571231  0.308784              -6.56404\n",
      "1     1052  0.732822  0.110572          -1477.477808\n",
      "2     1040  0.076982  0.062842          -5712.012156\n",
      "3     1010  0.093423  0.076948          -13885.33875\n",
      "4     1020 -0.012723  0.005244         -23594.366141\n",
      "5     1013 -0.418742  0.373996         -49996.668569\n",
      "6     1012  0.420235   0.39169         -77092.380616\n"
     ]
    },
    {
     "name": "stderr",
     "output_type": "stream",
     "text": [
      "C:\\Users\\clajn\\AppData\\Local\\anaconda3\\envs\\Python3716\\lib\\site-packages\\ipykernel_launcher.py:9: SettingWithCopyWarning: \n",
      "A value is trying to be set on a copy of a slice from a DataFrame.\n",
      "Try using .loc[row_indexer,col_indexer] = value instead\n",
      "\n",
      "See the caveats in the documentation: https://pandas.pydata.org/pandas-docs/stable/user_guide/indexing.html#returning-a-view-versus-a-copy\n",
      "  if __name__ == \"__main__\":\n",
      "C:\\Users\\clajn\\AppData\\Local\\anaconda3\\envs\\Python3716\\lib\\site-packages\\ipykernel_launcher.py:9: SettingWithCopyWarning: \n",
      "A value is trying to be set on a copy of a slice from a DataFrame.\n",
      "Try using .loc[row_indexer,col_indexer] = value instead\n",
      "\n",
      "See the caveats in the documentation: https://pandas.pydata.org/pandas-docs/stable/user_guide/indexing.html#returning-a-view-versus-a-copy\n",
      "  if __name__ == \"__main__\":\n",
      "C:\\Users\\clajn\\AppData\\Local\\anaconda3\\envs\\Python3716\\lib\\site-packages\\ipykernel_launcher.py:9: SettingWithCopyWarning: \n",
      "A value is trying to be set on a copy of a slice from a DataFrame.\n",
      "Try using .loc[row_indexer,col_indexer] = value instead\n",
      "\n",
      "See the caveats in the documentation: https://pandas.pydata.org/pandas-docs/stable/user_guide/indexing.html#returning-a-view-versus-a-copy\n",
      "  if __name__ == \"__main__\":\n",
      "C:\\Users\\clajn\\AppData\\Local\\anaconda3\\envs\\Python3716\\lib\\site-packages\\ipykernel_launcher.py:9: SettingWithCopyWarning: \n",
      "A value is trying to be set on a copy of a slice from a DataFrame.\n",
      "Try using .loc[row_indexer,col_indexer] = value instead\n",
      "\n",
      "See the caveats in the documentation: https://pandas.pydata.org/pandas-docs/stable/user_guide/indexing.html#returning-a-view-versus-a-copy\n",
      "  if __name__ == \"__main__\":\n",
      "C:\\Users\\clajn\\AppData\\Local\\anaconda3\\envs\\Python3716\\lib\\site-packages\\ipykernel_launcher.py:9: SettingWithCopyWarning: \n",
      "A value is trying to be set on a copy of a slice from a DataFrame.\n",
      "Try using .loc[row_indexer,col_indexer] = value instead\n",
      "\n",
      "See the caveats in the documentation: https://pandas.pydata.org/pandas-docs/stable/user_guide/indexing.html#returning-a-view-versus-a-copy\n",
      "  if __name__ == \"__main__\":\n",
      "C:\\Users\\clajn\\AppData\\Local\\anaconda3\\envs\\Python3716\\lib\\site-packages\\ipykernel_launcher.py:9: SettingWithCopyWarning: \n",
      "A value is trying to be set on a copy of a slice from a DataFrame.\n",
      "Try using .loc[row_indexer,col_indexer] = value instead\n",
      "\n",
      "See the caveats in the documentation: https://pandas.pydata.org/pandas-docs/stable/user_guide/indexing.html#returning-a-view-versus-a-copy\n",
      "  if __name__ == \"__main__\":\n",
      "C:\\Users\\clajn\\AppData\\Local\\anaconda3\\envs\\Python3716\\lib\\site-packages\\ipykernel_launcher.py:9: SettingWithCopyWarning: \n",
      "A value is trying to be set on a copy of a slice from a DataFrame.\n",
      "Try using .loc[row_indexer,col_indexer] = value instead\n",
      "\n",
      "See the caveats in the documentation: https://pandas.pydata.org/pandas-docs/stable/user_guide/indexing.html#returning-a-view-versus-a-copy\n",
      "  if __name__ == \"__main__\":\n"
     ]
    }
   ],
   "source": [
    "# Loop through each product and calculate result\n",
    "for product in result_products['Product']:\n",
    "    group = data_all[data_all['Product_SubGroup'] == product]\n",
    "    result = calculate_box_cox(group)\n",
    "    result_products.loc[result_products['Product'] == product, 'BoxCox'] = result\n",
    "    #print(result_products)\n",
    "    print()\n",
    "    print(product)\n",
    "    group[\"Quantity_Season_Diff\"] = group[\"Quantity\"].diff(periods=12)\n",
    "    result_products.loc[result_products['Product'] == product, 'ADF p'] = adf_test(group[\"Quantity_Season_Diff\"][12:])\n",
    "    result_products.loc[result_products['Product'] == product, 'Decomposed_regression'] = Decomposed_regression(group['Quantity'])\n",
    "\n",
    "# Show result\n",
    "print(result_products)"
   ]
  },
  {
   "cell_type": "markdown",
   "id": "07bc8c10",
   "metadata": {},
   "source": [
    "## Save result to file"
   ]
  },
  {
   "cell_type": "code",
   "execution_count": 8,
   "id": "0d87fda1",
   "metadata": {},
   "outputs": [
    {
     "name": "stdout",
     "output_type": "stream",
     "text": [
      "✅ TimeSeries variables saved.\n"
     ]
    }
   ],
   "source": [
    "result_products.to_excel('T1_TimeSeries_variables.xlsx', index=False)\n",
    "print(\"✅ TimeSeries variables saved.\")\n"
   ]
  }
 ],
 "metadata": {
  "kernelspec": {
   "display_name": "Python 3 (ipykernel)",
   "language": "python",
   "name": "python3"
  },
  "language_info": {
   "codemirror_mode": {
    "name": "ipython",
    "version": 3
   },
   "file_extension": ".py",
   "mimetype": "text/x-python",
   "name": "python",
   "nbconvert_exporter": "python",
   "pygments_lexer": "ipython3",
   "version": "3.7.1"
  }
 },
 "nbformat": 4,
 "nbformat_minor": 5
}
