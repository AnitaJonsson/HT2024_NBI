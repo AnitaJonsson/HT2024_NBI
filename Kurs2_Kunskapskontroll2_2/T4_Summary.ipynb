{
 "cells": [
  {
   "cell_type": "markdown",
   "id": "ed6c7796",
   "metadata": {},
   "source": [
    "# Merge data from all steps\n",
    "\n"
   ]
  },
  {
   "cell_type": "code",
   "execution_count": 1,
   "id": "62a138b7",
   "metadata": {},
   "outputs": [],
   "source": [
    "import warnings; \n",
    "warnings.simplefilter('ignore')\n",
    "\n",
    "from statsmodels.tools.sm_exceptions import ConvergenceWarning\n",
    "\n",
    "warnings.filterwarnings(\"ignore\", category=UserWarning)\n",
    "warnings.filterwarnings(\"ignore\", category=ConvergenceWarning)\n",
    "\n",
    "import numpy as np\n",
    "import pandas as pd\n",
    "import matplotlib.pyplot as plt\n",
    "\n",
    "from sklearn.datasets import fetch_openml\n",
    "from sklearn.model_selection import train_test_split\n",
    "from sklearn.ensemble import RandomForestClassifier, ExtraTreesClassifier, VotingClassifier\n",
    "from sklearn.metrics import mean_absolute_error, mean_squared_error, r2_score\n",
    "from sklearn.svm import LinearSVC\n",
    "\n",
    "from typing import Dict, List\n",
    "from prophet import Prophet\n",
    "\n",
    "import plotly.graph_objects as go\n",
    "\n",
    "from scipy.stats import boxcox\n",
    "from scipy.special import inv_boxcox\n",
    "from statsmodels.tsa.arima.model import ARIMA\n",
    "from statsmodels.tsa.statespace.sarimax import SARIMAX\n"
   ]
  },
  {
   "cell_type": "markdown",
   "id": "2c196c7b",
   "metadata": {},
   "source": [
    "## Load data"
   ]
  },
  {
   "cell_type": "code",
   "execution_count": 2,
   "id": "4e6215e4",
   "metadata": {},
   "outputs": [],
   "source": [
    "# --- Load result ---\n",
    "variables_df = pd.read_excel('T1_TimeSeries_variables.xlsx') \n",
    "cluster_df = pd.read_excel('T2_clustered_products.xlsx')\n",
    "mape_table = pd.read_excel('T3_mape_summary_by_product.xlsx')   "
   ]
  },
  {
   "cell_type": "markdown",
   "id": "3d2cee04",
   "metadata": {},
   "source": [
    "## Merge data"
   ]
  },
  {
   "cell_type": "code",
   "execution_count": 3,
   "id": "c099e6d6",
   "metadata": {},
   "outputs": [
    {
     "name": "stdout",
     "output_type": "stream",
     "text": [
      "   Product_SubGroup  MAPE_ARIMA  MAPE_SARIMA  MAPE_Prophet    BoxCox  \\\n",
      "0              1051       40.19        33.74         35.82  0.571231   \n",
      "1              1052       79.15        23.37         27.35  0.732822   \n",
      "2              1040       50.43        16.93         22.30  0.076982   \n",
      "3              1010       41.19        14.84         80.91  0.093423   \n",
      "4              1020       46.13        40.07         76.27 -0.012723   \n",
      "5              1013       45.27        73.17        196.55 -0.418742   \n",
      "6              1012       42.33        40.62         58.52  0.420235   \n",
      "\n",
      "      ADF p  Decomposed_regression  Cluster  \n",
      "0  0.308784              -6.564040        0  \n",
      "1  0.110572           -1477.477808        0  \n",
      "2  0.062842           -5712.012156        3  \n",
      "3  0.076948          -13885.338750        3  \n",
      "4  0.005244          -23594.366141        3  \n",
      "5  0.373996          -49996.668569        2  \n",
      "6  0.391690          -77092.380616        1  \n"
     ]
    }
   ],
   "source": [
    "# --- Merge info ---\n",
    "merged_df = pd.merge(\n",
    "    mape_table,\n",
    "    variables_df[['Product', 'BoxCox', 'ADF p', 'Decomposed_regression']],\n",
    "    left_on='Product_SubGroup',\n",
    "    right_on='Product',\n",
    "    how='left'\n",
    ")\n",
    "\n",
    "merged_df = merged_df.drop(columns=['Product'])\n",
    "\n",
    "merged_df = pd.merge(\n",
    "    merged_df,\n",
    "    cluster_df[['Product', 'Cluster']],\n",
    "    left_on='Product_SubGroup',\n",
    "    right_on='Product',\n",
    "    how='left'\n",
    ")\n",
    "\n",
    "merged_df = merged_df.drop(columns=['Product'])\n",
    "\n",
    "print(merged_df)"
   ]
  },
  {
   "cell_type": "markdown",
   "id": "15b20847",
   "metadata": {},
   "source": [
    "## Print merged data to file"
   ]
  },
  {
   "cell_type": "code",
   "execution_count": 5,
   "id": "5f64d9e5",
   "metadata": {},
   "outputs": [
    {
     "name": "stdout",
     "output_type": "stream",
     "text": [
      "✅ Summary data saved.\n"
     ]
    }
   ],
   "source": [
    "# --- Export merged result ---\n",
    "merged_df.to_excel('T4_summary.xlsx', index=False)\n",
    "print(\"✅ Summary data saved.\")"
   ]
  },
  {
   "cell_type": "code",
   "execution_count": null,
   "id": "5cabf94c",
   "metadata": {},
   "outputs": [],
   "source": []
  }
 ],
 "metadata": {
  "kernelspec": {
   "display_name": "Python 3 (ipykernel)",
   "language": "python",
   "name": "python3"
  },
  "language_info": {
   "codemirror_mode": {
    "name": "ipython",
    "version": 3
   },
   "file_extension": ".py",
   "mimetype": "text/x-python",
   "name": "python",
   "nbconvert_exporter": "python",
   "pygments_lexer": "ipython3",
   "version": "3.7.1"
  }
 },
 "nbformat": 4,
 "nbformat_minor": 5
}
